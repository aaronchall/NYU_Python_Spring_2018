{
 "cells": [
  {
   "cell_type": "markdown",
   "metadata": {},
   "source": [
    "Agenda:\n",
    "- what is an instance of a class\n",
    "- Attributes\n",
    "- Methods\n",
    "- Properties (contol attribute access)\n",
    "- Types of Methods \n",
    "  - normal instance methods\n",
    "  - Class methods (no instance, just class)\n",
    "  - static methods (no instance or class)\n",
    "- dotted lookup order\n",
    "  - data descriptors\n",
    "  - non-data descriptors\n",
    "- inheritance \n",
    "- if we have the time \n",
    "  - Abstract Base classes\n",
    "  - Mixins"
   ]
  },
  {
   "cell_type": "code",
   "execution_count": 1,
   "metadata": {},
   "outputs": [
    {
     "data": {
      "text/plain": [
       "dict"
      ]
     },
     "execution_count": 1,
     "metadata": {},
     "output_type": "execute_result"
    }
   ],
   "source": [
    "# - what is an instance of a class\n",
    "an_instance_of_a_list = []\n",
    "another_instance_of_a_list = list()\n",
    "an_instance_of_a_dict = {}\n",
    "another_instance_of_a_dict = dict()\n",
    "type(an_instance_of_a_dict)"
   ]
  },
  {
   "cell_type": "code",
   "execution_count": 2,
   "metadata": {},
   "outputs": [
    {
     "data": {
      "text/plain": [
       "type"
      ]
     },
     "execution_count": 2,
     "metadata": {},
     "output_type": "execute_result"
    }
   ],
   "source": [
    "type(type({}))"
   ]
  },
  {
   "cell_type": "code",
   "execution_count": 3,
   "metadata": {},
   "outputs": [
    {
     "data": {
      "text/plain": [
       "[dict, object]"
      ]
     },
     "execution_count": 3,
     "metadata": {},
     "output_type": "execute_result"
    }
   ],
   "source": [
    "dict.mro() # method resolution order\n",
    "# this is the order we look for methods"
   ]
  },
  {
   "cell_type": "code",
   "execution_count": 5,
   "metadata": {},
   "outputs": [
    {
     "data": {
      "text/plain": [
       "['__class__',\n",
       " '__contains__',\n",
       " '__delattr__',\n",
       " '__delitem__',\n",
       " '__dir__',\n",
       " '__doc__',\n",
       " '__eq__',\n",
       " '__format__',\n",
       " '__ge__',\n",
       " '__getattribute__',\n",
       " '__getitem__',\n",
       " '__gt__',\n",
       " '__hash__',\n",
       " '__init__',\n",
       " '__init_subclass__',\n",
       " '__iter__',\n",
       " '__le__',\n",
       " '__len__',\n",
       " '__lt__',\n",
       " '__ne__',\n",
       " '__new__',\n",
       " '__reduce__',\n",
       " '__reduce_ex__',\n",
       " '__repr__',\n",
       " '__setattr__',\n",
       " '__setitem__',\n",
       " '__sizeof__',\n",
       " '__str__',\n",
       " '__subclasshook__',\n",
       " 'clear',\n",
       " 'copy',\n",
       " 'fromkeys',\n",
       " 'get',\n",
       " 'items',\n",
       " 'keys',\n",
       " 'pop',\n",
       " 'popitem',\n",
       " 'setdefault',\n",
       " 'update',\n",
       " 'values']"
      ]
     },
     "execution_count": 5,
     "metadata": {},
     "output_type": "execute_result"
    }
   ],
   "source": [
    "def api(obj):\n",
    "    return [n for n in dir(obj) \n",
    "                if n[0] != '_']\n",
    "# these are the public methods of dict:\n",
    "api(dict)\n",
    "dir(dict) # including non-public API\n",
    "# these are attributes and methods:"
   ]
  },
  {
   "cell_type": "code",
   "execution_count": 10,
   "metadata": {},
   "outputs": [
    {
     "data": {
      "text/plain": [
       "<method-wrapper '__hash__' of A_Class object at 0x7f4d5d5fd2e8>"
      ]
     },
     "execution_count": 10,
     "metadata": {},
     "output_type": "execute_result"
    }
   ],
   "source": [
    "# first look in dict.__dict__ \n",
    "# then in object.__dict__\n",
    "class A_Class(object): pass\n",
    " \n",
    "an_instance = A_Class()\n",
    "an_instance.__hash__"
   ]
  },
  {
   "cell_type": "code",
   "execution_count": 11,
   "metadata": {},
   "outputs": [
    {
     "data": {
      "text/plain": [
       "<slot wrapper '__hash__' of 'object' objects>"
      ]
     },
     "execution_count": 11,
     "metadata": {},
     "output_type": "execute_result"
    }
   ],
   "source": [
    "# not the same as:\n",
    "A_Class.__hash__"
   ]
  },
  {
   "cell_type": "code",
   "execution_count": 12,
   "metadata": {},
   "outputs": [
    {
     "data": {
      "text/plain": [
       "True"
      ]
     },
     "execution_count": 12,
     "metadata": {},
     "output_type": "execute_result"
    }
   ],
   "source": [
    "# These *are* the same method:\n",
    "A_Class.__hash__ is object.__hash__"
   ]
  },
  {
   "cell_type": "code",
   "execution_count": 13,
   "metadata": {},
   "outputs": [
    {
     "data": {
      "text/plain": [
       "-9223363288713790162"
      ]
     },
     "execution_count": 13,
     "metadata": {},
     "output_type": "execute_result"
    }
   ],
   "source": [
    "# so when we hash the instance, we're \n",
    "# reusing functionality from the base class\n",
    "hash(an_instance)"
   ]
  },
  {
   "cell_type": "code",
   "execution_count": 15,
   "metadata": {},
   "outputs": [
    {
     "data": {
      "text/plain": [
       "(2.0, 1.0)"
      ]
     },
     "execution_count": 15,
     "metadata": {},
     "output_type": "execute_result"
    }
   ],
   "source": [
    "# Attributes:\n",
    "# for example, a complex number has a \n",
    "# real and imaginary attribute:\n",
    "a_complex_number = 1 + 2j\n",
    "a_complex_number.imag, a_complex_number.real"
   ]
  },
  {
   "cell_type": "code",
   "execution_count": 17,
   "metadata": {},
   "outputs": [
    {
     "data": {
      "text/plain": [
       "'a string'"
      ]
     },
     "execution_count": 17,
     "metadata": {},
     "output_type": "execute_result"
    }
   ],
   "source": [
    "# custom objects store attributes in a dict\n",
    "an_instance.an_attribute = 'a string'\n",
    "an_instance.an_attribute"
   ]
  },
  {
   "cell_type": "code",
   "execution_count": 18,
   "metadata": {},
   "outputs": [
    {
     "data": {
      "text/plain": [
       "{'an_attribute': 'a string'}"
      ]
     },
     "execution_count": 18,
     "metadata": {},
     "output_type": "execute_result"
    }
   ],
   "source": [
    "# The dict is an attribute of the \n",
    "# instance too (but it's stored in \n",
    "# a special slot - no recursion):\n",
    "an_instance.__dict__"
   ]
  },
  {
   "cell_type": "code",
   "execution_count": 19,
   "metadata": {},
   "outputs": [
    {
     "data": {
      "text/plain": [
       "[__main__.A_Class, object]"
      ]
     },
     "execution_count": 19,
     "metadata": {},
     "output_type": "execute_result"
    }
   ],
   "source": [
    "# We have seen that\n",
    "# methods are inherited\n",
    "# and that they are looked up\n",
    "# in a set order\n",
    "A_Class.mro()"
   ]
  },
  {
   "cell_type": "markdown",
   "metadata": {},
   "source": [
    "Python can take a very complex \n",
    "inheritance tree, and make a\n",
    "list of base classes to lookup\n",
    "the methods in, the MRO, or\n",
    "Method Resolution Order\n",
    " see https://en.wikipedia.org/wiki/C3_linearization#Example_demonstrated_in_Python\n",
    "and https://stackoverflow.com/q/40478154/541136"
   ]
  },
  {
   "cell_type": "code",
   "execution_count": 35,
   "metadata": {},
   "outputs": [
    {
     "name": "stdout",
     "output_type": "stream",
     "text": [
      "-11\n"
     ]
    },
    {
     "ename": "Exception",
     "evalue": "cannot be < 0",
     "output_type": "error",
     "traceback": [
      "\u001b[0;31m---------------------------------------------------------------------------\u001b[0m",
      "\u001b[0;31mException\u001b[0m                                 Traceback (most recent call last)",
      "\u001b[0;32m<ipython-input-35-576348eb3deb>\u001b[0m in \u001b[0;36m<module>\u001b[0;34m()\u001b[0m\n\u001b[1;32m     21\u001b[0m \u001b[0;34m\u001b[0m\u001b[0m\n\u001b[1;32m     22\u001b[0m \u001b[0mc\u001b[0m \u001b[0;34m=\u001b[0m \u001b[0mCustom\u001b[0m\u001b[0;34m(\u001b[0m\u001b[0;34m)\u001b[0m\u001b[0;34m\u001b[0m\u001b[0m\n\u001b[0;32m---> 23\u001b[0;31m \u001b[0mc\u001b[0m\u001b[0;34m.\u001b[0m\u001b[0mprop\u001b[0m \u001b[0;34m=\u001b[0m \u001b[0;34m-\u001b[0m \u001b[0;36m11\u001b[0m\u001b[0;34m\u001b[0m\u001b[0m\n\u001b[0m\u001b[1;32m     24\u001b[0m \u001b[0mc\u001b[0m\u001b[0;34m.\u001b[0m\u001b[0mprop\u001b[0m\u001b[0;34m\u001b[0m\u001b[0m\n",
      "\u001b[0;32m<ipython-input-35-576348eb3deb>\u001b[0m in \u001b[0;36mprop\u001b[0;34m(self, value)\u001b[0m\n\u001b[1;32m     14\u001b[0m         \u001b[0mprint\u001b[0m\u001b[0;34m(\u001b[0m\u001b[0mvalue\u001b[0m\u001b[0;34m)\u001b[0m\u001b[0;34m\u001b[0m\u001b[0m\n\u001b[1;32m     15\u001b[0m         \u001b[0;32mif\u001b[0m \u001b[0mvalue\u001b[0m \u001b[0;34m<\u001b[0m \u001b[0;36m0\u001b[0m\u001b[0;34m:\u001b[0m\u001b[0;34m\u001b[0m\u001b[0m\n\u001b[0;32m---> 16\u001b[0;31m             \u001b[0;32mraise\u001b[0m \u001b[0mException\u001b[0m\u001b[0;34m(\u001b[0m\u001b[0;34m'cannot be < 0'\u001b[0m\u001b[0;34m)\u001b[0m\u001b[0;34m\u001b[0m\u001b[0m\n\u001b[0m\u001b[1;32m     17\u001b[0m         \u001b[0mself\u001b[0m\u001b[0;34m.\u001b[0m\u001b[0m_prop\u001b[0m \u001b[0;34m=\u001b[0m \u001b[0mvalue\u001b[0m\u001b[0;34m\u001b[0m\u001b[0m\n\u001b[1;32m     18\u001b[0m     \u001b[0;31m# if prop.setter and prop.deleter\u001b[0m\u001b[0;34m\u001b[0m\u001b[0;34m\u001b[0m\u001b[0m\n",
      "\u001b[0;31mException\u001b[0m: cannot be < 0"
     ]
    }
   ],
   "source": [
    "class Custom:\n",
    "    \"\"\"\n",
    "    c = Custom()\n",
    "    c.attr = 1.5\n",
    "    c.prop = 4.5\n",
    "    c.prop = -3.4 # error if negative\n",
    "    \"\"\"\n",
    "    @property\n",
    "    def prop(self):\n",
    "        return self._prop\n",
    "    \n",
    "    @prop.setter\n",
    "    def prop(self, value):\n",
    "        print(value)\n",
    "        if value < 0:\n",
    "            raise Exception('cannot be < 0')\n",
    "        self._prop = value\n",
    "    # if prop.setter and prop.deleter \n",
    "    # are undefined, it just raises\n",
    "    # an error when trying to set or delete\n",
    "\n",
    "c = Custom()\n",
    "c.prop = - 11\n",
    "c.prop"
   ]
  },
  {
   "cell_type": "code",
   "execution_count": 36,
   "metadata": {},
   "outputs": [
    {
     "name": "stdout",
     "output_type": "stream",
     "text": [
      "1\n"
     ]
    },
    {
     "ename": "AttributeError",
     "evalue": "can't delete attribute",
     "output_type": "error",
     "traceback": [
      "\u001b[0;31m---------------------------------------------------------------------------\u001b[0m",
      "\u001b[0;31mAttributeError\u001b[0m                            Traceback (most recent call last)",
      "\u001b[0;32m<ipython-input-36-a3f17d00ff67>\u001b[0m in \u001b[0;36m<module>\u001b[0;34m()\u001b[0m\n\u001b[1;32m      1\u001b[0m \u001b[0mc\u001b[0m\u001b[0;34m.\u001b[0m\u001b[0mprop\u001b[0m \u001b[0;34m=\u001b[0m \u001b[0;36m1\u001b[0m\u001b[0;34m\u001b[0m\u001b[0m\n\u001b[0;32m----> 2\u001b[0;31m \u001b[0;32mdel\u001b[0m \u001b[0mc\u001b[0m\u001b[0;34m.\u001b[0m\u001b[0mprop\u001b[0m\u001b[0;34m\u001b[0m\u001b[0m\n\u001b[0m",
      "\u001b[0;31mAttributeError\u001b[0m: can't delete attribute"
     ]
    }
   ],
   "source": [
    "c.prop = 1\n",
    "del c.prop"
   ]
  },
  {
   "cell_type": "code",
   "execution_count": 21,
   "metadata": {},
   "outputs": [
    {
     "name": "stdout",
     "output_type": "stream",
     "text": [
      "calling foo\n"
     ]
    }
   ],
   "source": [
    "# The above uses a decorator.\n",
    "# We have discussed in class before, but\n",
    "# what's a decorator? \n",
    "# A decorator takes a function (or class)\n",
    "# as an argument and returns a callable.\n",
    "# We are using @decorator notation.\n",
    "# A decorator basically wraps\n",
    "# functionality around another function \n",
    "# (or class)\n",
    "\n",
    "\n",
    "def decorator(fn):\n",
    "    def a_callable(*args, **kwargs):\n",
    "        print(f'calling {fn.__name__}')\n",
    "        fn(*args, **kwargs)\n",
    "    return a_callable\n",
    "\n",
    "@decorator\n",
    "def foo(): \n",
    "    pass\n",
    "\n",
    "# is the same as\n",
    "# def foo():\n",
    "#    pass\n",
    "# foo = decorator(foo)\n",
    "\n",
    "foo() "
   ]
  },
  {
   "cell_type": "code",
   "execution_count": 37,
   "metadata": {},
   "outputs": [],
   "source": [
    "# Methods!\n",
    "# normal methods, class methods,\n",
    "# and statics methods:\n",
    "\n",
    "class Foo(object):\n",
    "\n",
    "    def a_normal_instance_method(self, arg_1, kwarg_2=None):\n",
    "        '''\n",
    "        Return a value that is a function of the instance with its\n",
    "        attributes, and other arguments such as arg_1 and kwarg2\n",
    "        '''\n",
    "        \n",
    "    @classmethod\n",
    "    def a_class_method(cls, arg1):\n",
    "        '''\n",
    "        Return a value that is a function of the class and other arguments.\n",
    "        respects subclassing, it is called with the class it is called from.\n",
    "        '''\n",
    "        \n",
    "    @staticmethod\n",
    "    def a_static_method(arg_0):\n",
    "        '''\n",
    "        Return a value that is a function of arg_0. It does not know the \n",
    "        instance or class it is called from.\n",
    "        '''\n"
   ]
  },
  {
   "cell_type": "code",
   "execution_count": 38,
   "metadata": {},
   "outputs": [
    {
     "data": {
      "text/plain": [
       "'ABCghijkl'"
      ]
     },
     "execution_count": 38,
     "metadata": {},
     "output_type": "execute_result"
    }
   ],
   "source": [
    "# str.maketrans is a good example of \n",
    "# a static method - it doesn't use the \n",
    "# instance or class to make a dict:\n",
    ">>> str.maketrans('abc', 'ABC', 'def')\n",
    "{97: 65, 98: 66, 99: 67, 100: None, 101: None, 102: None}\n",
    ">>> 'abcdefghijkl'.translate(str.maketrans('abc', 'ABC', 'def')\n",
    ")\n",
    "'ABCghijkl'\n"
   ]
  },
  {
   "cell_type": "code",
   "execution_count": null,
   "metadata": {},
   "outputs": [],
   "source": [
    "# dict.fromkeys is a good example of a \n",
    "# class method - it uses the class to \n",
    "# create a new instance, in a way \n",
    "# that is different from the normal\n",
    "# constructor, dict()\n",
    "\n",
    "# note - avoid giving it a mutable value\n",
    ">>> dict.fromkeys('abcd')\n",
    "{'a': None, 'b': None, 'c': None, 'd': None}\n",
    ">>> dict.fromkeys('abcd', ())\n",
    "{'a': (), 'b': (), 'c': (), 'd': ()}\n"
   ]
  }
 ],
 "metadata": {
  "kernelspec": {
   "display_name": "Python 3",
   "language": "python",
   "name": "python3"
  },
  "language_info": {
   "codemirror_mode": {
    "name": "ipython",
    "version": 3
   },
   "file_extension": ".py",
   "mimetype": "text/x-python",
   "name": "python",
   "nbconvert_exporter": "python",
   "pygments_lexer": "ipython3",
   "version": "3.6.4"
  }
 },
 "nbformat": 4,
 "nbformat_minor": 2
}
